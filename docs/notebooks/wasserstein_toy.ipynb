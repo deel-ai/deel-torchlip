{
 "cells": [
  {
   "cell_type": "markdown",
   "metadata": {},
   "source": [
    "# Example 1: Wasserstein distance estimation\n",
    "\n",
    "[![Open in Colab](https://colab.research.google.com/assets/colab-badge.svg)](https://colab.research.google.com/github/deel-ai/deel-torchlip/blob/master/docs/notebooks/wasserstein_toy.ipynb)\n",
    "\n",
    "In this notebook we estimate the Wasserstein distance through its Kantorovich-Rubinstein\n",
    "dual representation by using a 1-Lipschitz neural network.\n",
    "\n",
    "## 1. Wasserstein distance\n",
    "\n",
    "The Wasserstein distance measures the distance between two probability distributions.\n",
    "The Wikipedia article gives a more intuitive definition:\n",
    "\n",
    "> Intuitively, if each distribution is viewed as a unit amount of \"dirt\" piled on $M$,\n",
    "> the metric is the minimum \"cost\" of turning one pile into the other, which is assumed\n",
    "> to be the amount of dirt that needs to be moved times the mean distance it has to be\n",
    "> moved. Because of this analogy, the metric is known in computer science as the earth\n",
    "> mover's distance.\n",
    "\n",
    "Mathematically it is defined as\n",
    "\n",
    "$$\n",
    "W_1(\\mu,\\nu) = \\inf_{\\pi \\in \\Pi(\\mu,\\nu)}\\underset{x,z \\sim \\pi}{\\mathbb{E}}\\Vert{} \\textbf{x}-\\textbf{z} \\Vert{}\n",
    "$$\n",
    "\n",
    "where $\\Pi(\\mu,\\nu)$ is the set of all probability measures on $\\Omega\\times \\Omega$\n",
    "with marginals $\\mu$ and $\\nu$. In most case this equation is not tractable.\n"
   ]
  },
  {
   "cell_type": "code",
   "execution_count": 1,
   "metadata": {},
   "outputs": [],
   "source": [
    "# Install the required library deel-torchlip (uncomment line below)\n",
    "# %pip install -qqq deel-torchlip"
   ]
  },
  {
   "cell_type": "markdown",
   "metadata": {},
   "source": [
    "## 2. Parameters input images\n",
    "\n",
    "We illustrate this on a synthetic image dataset where the $W_1$ distance is known.\n",
    "\n",
    "Our synthetic dataset contains images with black or white squares, allowing us to check\n",
    "if the computed Wasserstein distance is correct. The two distributions are\n",
    "\n",
    "- the set of black images (all 0),\n",
    "- the set of images with a square on it (all 0, with a square of -1 or +1 in the\n",
    "  middle).\n"
   ]
  },
  {
   "cell_type": "code",
   "execution_count": 2,
   "metadata": {},
   "outputs": [],
   "source": [
    "from typing import Tuple\n",
    "\n",
    "import matplotlib.pyplot as plt\n",
    "import numpy as np\n",
    "\n",
    "size = (64, 64)\n",
    "frac = 0.3  # proportion of the center square\n",
    "\n",
    "\n",
    "def generate_toy_images(shape: Tuple[int, int], frac: float = 0, value: float = 1):\n",
    "    \"\"\"\n",
    "    Generates a single image.\n",
    "\n",
    "    Args:\n",
    "        shape: Shape of the output image.\n",
    "        frac: Proportion of the center rectangle.\n",
    "        value: Value assigned to the center rectangle.\n",
    "    \"\"\"\n",
    "    img = np.zeros(shape)\n",
    "    if frac == 0:\n",
    "        return img\n",
    "\n",
    "    frac = frac ** 0.5\n",
    "\n",
    "    l = int(shape[0] * frac)\n",
    "    ldec = (shape[0] - l) // 2\n",
    "    w = int(shape[1] * frac)\n",
    "    wdec = (shape[1] - w) // 2\n",
    "\n",
    "    img[ldec : ldec + l, wdec : wdec + w] = value\n",
    "\n",
    "    return img\n",
    "\n",
    "\n",
    "def generator(batch_size: int, shape: Tuple[int, int], frac: float):\n",
    "    \"\"\"\n",
    "    Creates an infinite generator that generates batch of images. Half of the batch\n",
    "    comes from the first distribution (only black images), while the remaining half\n",
    "    comes from the second distribution.\n",
    "\n",
    "    Args:\n",
    "        batch_size: Number of images in each batch.\n",
    "        shape: Shape of the image.\n",
    "        frac: Fraction of the square to set \"white\".\n",
    "\n",
    "    Returns:\n",
    "        An infinite generator that yield batch of the given size.\n",
    "    \"\"\"\n",
    "\n",
    "    pwhite = generate_toy_images(shape, frac=frac, value=1)\n",
    "    nwhite = generate_toy_images(shape, frac=frac, value=-1)\n",
    "\n",
    "    nblack = batch_size // 2\n",
    "    nsquares = batch_size - nblack\n",
    "    npwhite = nsquares // 2\n",
    "    nnwhite = nsquares - npwhite\n",
    "\n",
    "    batch_x = np.concatenate(\n",
    "        (\n",
    "            np.zeros((nblack,) + shape),\n",
    "            np.repeat(pwhite[None, ...], npwhite, axis=0),\n",
    "            np.repeat(nwhite[None, ...], nnwhite, axis=0),\n",
    "        ),\n",
    "        axis=0,\n",
    "    )\n",
    "    batch_y = np.concatenate((np.zeros((nblack, 1)), np.ones((nsquares, 1))), axis=0)\n",
    "\n",
    "    while True:\n",
    "        yield batch_x, batch_y\n",
    "\n",
    "\n",
    "def display_image(ax, image, title: str = \"\"):\n",
    "    ax.imshow(image, cmap=\"gray\")\n",
    "    ax.set_xticks([])\n",
    "    ax.set_yticks([])\n",
    "    ax.set_title(title)"
   ]
  },
  {
   "cell_type": "markdown",
   "metadata": {},
   "source": [
    "We consider images of size 64x64, and an inner square that covers about 30% of the image. \n",
    "We can manually compute the $W_1$ distance between the two sets."
   ]
  },
  {
   "cell_type": "code",
   "execution_count": 3,
   "metadata": {},
   "outputs": [
    {
     "name": "stdout",
     "output_type": "stream",
     "text": [
      "L2-Norm, black vs. 'negative' white -> 35.0\n",
      "L2-Norm, black vs. 'positive' white -> 35.0\n"
     ]
    },
    {
     "data": {
      "image/png": "[encoded data removed]",
      "text/plain": [
       "<Figure size 1512x504 with 3 Axes>"
      ]
     },
     "metadata": {},
     "output_type": "display_data"
    }
   ],
   "source": [
    "img1 = generate_toy_images(size, 0)\n",
    "img2 = generate_toy_images(size, frac, value=-1)\n",
    "img3 = generate_toy_images(size, frac, value=1)\n",
    "\n",
    "fig, axs = plt.subplots(1, 3, figsize=(21, 7))\n",
    "\n",
    "display_image(axs[0], img1, \"black (label = -1)\")\n",
    "display_image(axs[1], img2, \"'negative' white (label = 1)\")\n",
    "display_image(axs[2], img3, \"'positive' white (label = 1)\")\n",
    "\n",
    "print(\"L2-Norm, black vs. 'negative' white -> {}\".format(np.linalg.norm(img2 - img1)))\n",
    "print(\"L2-Norm, black vs. 'positive' white -> {}\".format(np.linalg.norm(img3 - img1)))"
   ]
  },
  {
   "cell_type": "markdown",
   "metadata": {},
   "source": [
    "As we can see, the distance between the fully black image and any of the two images with an inner square is $35$, and these are the only images in our distributions, the $W_1$ distance between the two distances is also $35$."
   ]
  },
  {
   "cell_type": "markdown",
   "metadata": {},
   "source": [
    "## 3. Kantorovich-Rubinstein dual formulation\n",
    "\n",
    "The Kantorovich-Rubinstein (KR) dual formulation of the Wasserstein distance is\n",
    "\n",
    "$$ W_1(\\mu, \\nu) = \\sup_{f \\in Lip_1(\\Omega)} \\underset{\\textbf{x} \\sim \\mu}{\\mathbb{E}}\n",
    "\\left[f(\\textbf{x} )\\right] -\\underset{\\textbf{x} \\sim \\nu}{\\mathbb{E}}\n",
    "\\left[f(\\textbf{x} )\\right]. $$\n",
    "\n",
    "This states the problem as an optimization problem over the space of 1-Lipschitz\n",
    "functions. We can estimate this by optimizing over the space of 1-Lipschitz neural\n",
    "networks.\n",
    "\n",
    "- [1] C. Anil, J. Lucas, et R. Grosse, \"Sorting out Lipschitz function approximation\",\n",
    "  arXiv:1811.05381, nov. 2018.\n"
   ]
  },
  {
   "cell_type": "markdown",
   "metadata": {},
   "source": [
    "### 3.1. Building a 1-Lipschitz model\n",
    "\n",
    "In this section, we use the `deel.torchlip` (short `torchlip`) to build a 1-Lipschitz\n",
    "network. The `torchlip` library is the PyTorch equivalent of\n",
    "[`deel-lip`](https://github.com/deel-ai/deel-lip). In this example, we use two\n",
    "1-Lipschitz layers and a special activation function:\n",
    "\n",
    "- `SpectralLinear` uses spectral normalization to force the maximum singular value of\n",
    "  the weight matrix to be one, followed by Bjorck normalization to force all singular\n",
    "  values to be 1. After convergence, all singular values are equal to 1 and the linear\n",
    "  operation is 1-Lipschitz. The `SpectralLinear` class also uses orthogonal\n",
    "  initialization for the weight (see `torch.init.orthogonal_`).\n",
    "- `FrobeniusLinear` simply divides the weight matrix by its Frobenius norm. We only use\n",
    "  it for the last layer because this layer has a single output. Similar to\n",
    "  `SpectralLinear`, the weights are initialized using orthogonal initialization.\n",
    "- We use `FullSort` activation, which is a 1-Lipschitz activation.\n"
   ]
  },
  {
   "cell_type": "code",
   "execution_count": 4,
   "metadata": {
    "scrolled": true
   },
   "outputs": [
    {
     "name": "stderr",
     "output_type": "stream",
     "text": [
      "  from .autonotebook import tqdm as notebook_tqdm\n"
     ]
    },
    {
     "data": {
      "text/plain": [
       "Sequential(\n",
       "  (0): Flatten(start_dim=1, end_dim=-1)\n",
       "  (1): ParametrizedSpectralLinear(\n",
       "    in_features=4096, out_features=128, bias=True\n",
       "    (parametrizations): ModuleDict(\n",
       "      (weight): ParametrizationList(\n",
       "        (0): _SpectralNorm()\n",
       "        (1): _BjorckNorm()\n",
       "      )\n",
       "    )\n",
       "  )\n",
       "  (2): FullSort()\n",
       "  (3): ParametrizedSpectralLinear(\n",
       "    in_features=128, out_features=64, bias=True\n",
       "    (parametrizations): ModuleDict(\n",
       "      (weight): ParametrizationList(\n",
       "        (0): _SpectralNorm()\n",
       "        (1): _BjorckNorm()\n",
       "      )\n",
       "    )\n",
       "  )\n",
       "  (4): FullSort()\n",
       "  (5): ParametrizedSpectralLinear(\n",
       "    in_features=64, out_features=32, bias=True\n",
       "    (parametrizations): ModuleDict(\n",
       "      (weight): ParametrizationList(\n",
       "        (0): _SpectralNorm()\n",
       "        (1): _BjorckNorm()\n",
       "      )\n",
       "    )\n",
       "  )\n",
       "  (6): FullSort()\n",
       "  (7): ParametrizedFrobeniusLinear(\n",
       "    in_features=32, out_features=1, bias=True\n",
       "    (parametrizations): ModuleDict(\n",
       "      (weight): ParametrizationList(\n",
       "        (0): _FrobeniusNorm()\n",
       "      )\n",
       "    )\n",
       "  )\n",
       ")"
      ]
     },
     "execution_count": 4,
     "metadata": {},
     "output_type": "execute_result"
    }
   ],
   "source": [
    "import torch\n",
    "from deel import torchlip\n",
    "\n",
    "device = torch.device(\"cuda\" if torch.cuda.is_available() else \"cpu\")\n",
    "\n",
    "wass = torchlip.Sequential(\n",
    "    torch.nn.Flatten(),\n",
    "    torchlip.SpectralLinear(np.prod(size), 128),\n",
    "    torchlip.FullSort(),\n",
    "    torchlip.SpectralLinear(128, 64),\n",
    "    torchlip.FullSort(),\n",
    "    torchlip.SpectralLinear(64, 32),\n",
    "    torchlip.FullSort(),\n",
    "    torchlip.FrobeniusLinear(32, 1),\n",
    ").to(device)\n",
    "\n",
    "wass"
   ]
  },
  {
   "cell_type": "markdown",
   "metadata": {},
   "source": [
    "### 3.2. Training a 1-Lipschitz network with KR loss\n",
    "\n",
    "We now train this neural network using the Kantorovich-Rubinstein formulation for the\n",
    "Wasserstein distance.\n"
   ]
  },
  {
   "cell_type": "code",
   "execution_count": 5,
   "metadata": {},
   "outputs": [
    {
     "name": "stderr",
     "output_type": "stream",
     "text": [
      "Epoch 1/10: 100%|██████████| 16/16 [00:00<00:00, 32.56it/s, loss=-22.727377]\n",
      "Epoch 2/10: 100%|██████████| 16/16 [00:00<00:00, 104.26it/s, loss=-32.414299]\n",
      "Epoch 3/10: 100%|██████████| 16/16 [00:00<00:00, 103.01it/s, loss=-34.711800]\n",
      "Epoch 4/10: 100%|██████████| 16/16 [00:00<00:00, 102.35it/s, loss=-34.961674]\n",
      "Epoch 5/10: 100%|██████████| 16/16 [00:00<00:00, 104.20it/s, loss=-34.989662]\n",
      "Epoch 6/10: 100%|██████████| 16/16 [00:00<00:00, 104.12it/s, loss=-34.993656]\n",
      "Epoch 7/10: 100%|██████████| 16/16 [00:00<00:00, 104.29it/s, loss=-34.993637]\n",
      "Epoch 8/10: 100%|██████████| 16/16 [00:00<00:00, 104.32it/s, loss=-34.994102]\n",
      "Epoch 9/10: 100%|██████████| 16/16 [00:00<00:00, 102.74it/s, loss=-34.994442]\n",
      "Epoch 10/10: 100%|██████████| 16/16 [00:00<00:00, 103.46it/s, loss=-34.995232]\n"
     ]
    }
   ],
   "source": [
    "from deel.torchlip import KRLoss\n",
    "from tqdm import trange\n",
    "\n",
    "batch_size = 16\n",
    "n_epochs = 10\n",
    "steps_per_epoch = 256\n",
    "\n",
    "# Create the image generator:\n",
    "g = generator(batch_size, size, frac)\n",
    "\n",
    "kr_loss = KRLoss()\n",
    "optimizer = torch.optim.Adam(lr=0.01, params=wass.parameters())\n",
    "\n",
    "n_steps = steps_per_epoch // batch_size\n",
    "\n",
    "for epoch in range(n_epochs):\n",
    "\n",
    "    tsteps = trange(n_steps, desc=f\"Epoch {epoch + 1}/{n_epochs}\")\n",
    "    for _ in tsteps:\n",
    "        data, target = next(g)\n",
    "        data, target = (\n",
    "            torch.tensor(data).float().to(device),\n",
    "            torch.tensor(target).float().to(device),\n",
    "        )\n",
    "        optimizer.zero_grad()\n",
    "        output = wass(data)\n",
    "        loss = kr_loss(output, target)\n",
    "        loss.backward()\n",
    "        optimizer.step()\n",
    "        tsteps.set_postfix({\"loss\": \"{:.6f}\".format(loss)})\n"
   ]
  },
  {
   "cell_type": "markdown",
   "metadata": {},
   "source": [
    "As we can see the loss converges to the value $35$ which is the $W_1$ distance between\n",
    "the two distributions (with and without squares).\n"
   ]
  },
  {
   "cell_type": "markdown",
   "metadata": {},
   "source": [
    "<div class=\"alert alert-block alert-danger\"></div>"
   ]
  }
 ],
 "metadata": {
  "kernelspec": {
   "display_name": "deel-pt1.10",
   "language": "python",
   "name": "python3"
  },
  "language_info": {
   "codemirror_mode": {
    "name": "ipython",
    "version": 3
   },
   "file_extension": ".py",
   "mimetype": "text/x-python",
   "name": "python",
   "nbconvert_exporter": "python",
   "pygments_lexer": "ipython3",
   "version": "3.8.0"
  }
 },
 "nbformat": 4,
 "nbformat_minor": 4
}
